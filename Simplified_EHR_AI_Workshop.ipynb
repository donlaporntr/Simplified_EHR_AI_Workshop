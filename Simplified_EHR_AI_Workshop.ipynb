{
 "cells": [
  {
   "cell_type": "markdown",
   "id": "789ed9c0",
   "metadata": {},
   "source": [
    "# Introduction to EHR Data Issues and AI\n",
    "This notebook is a beginner-friendly guide to using AI in healthcare, with a focus on understanding how data quality issues in Electronic Health Records (EHRs) can affect model performance."
   ]
  },
  {
   "cell_type": "markdown",
   "id": "41144595",
   "metadata": {},
   "source": [
    "## Why It Matters\n",
    "- EHRs often contain **missing**, **incorrect**, or **incomplete** data.\n",
    "- These issues can cause AI models to make **inaccurate predictions**.\n",
    "- Understanding these problems is **critical** before trusting AI in clinical decisions."
   ]
  },
  {
   "cell_type": "code",
   "execution_count": 20,
   "id": "8dedd77e",
   "metadata": {},
   "outputs": [
    {
     "data": {
      "application/vnd.microsoft.datawrangler.viewer.v0+json": {
       "columns": [
        {
         "name": "index",
         "rawType": "int64",
         "type": "integer"
        },
        {
         "name": "patient_id",
         "rawType": "int64",
         "type": "integer"
        },
        {
         "name": "time",
         "rawType": "int64",
         "type": "integer"
        },
        {
         "name": "heart_rate",
         "rawType": "float64",
         "type": "float"
        },
        {
         "name": "oxygen_saturation",
         "rawType": "float64",
         "type": "float"
        },
        {
         "name": "outcome",
         "rawType": "int64",
         "type": "integer"
        }
       ],
       "ref": "77a0a9e7-3126-4bb0-8348-d34a0c26f13a",
       "rows": [
        [
         "0",
         "1",
         "1",
         "80.0",
         "98.0",
         "1"
        ],
        [
         "1",
         "1",
         "2",
         "85.0",
         "95.0",
         "0"
        ],
        [
         "2",
         "1",
         "3",
         null,
         "92.0",
         "1"
        ],
        [
         "3",
         "1",
         "4",
         "90.0",
         null,
         "1"
        ],
        [
         "4",
         "1",
         "5",
         "100.0",
         "97.0",
         "0"
        ],
        [
         "5",
         "2",
         "1",
         null,
         "94.0",
         "0"
        ],
        [
         "6",
         "2",
         "2",
         "95.0",
         null,
         "1"
        ],
        [
         "7",
         "2",
         "3",
         "90.0",
         "90.0",
         "1"
        ],
        [
         "8",
         "2",
         "4",
         null,
         "87.0",
         "0"
        ]
       ],
       "shape": {
        "columns": 5,
        "rows": 9
       }
      },
      "text/html": [
       "<div>\n",
       "<style scoped>\n",
       "    .dataframe tbody tr th:only-of-type {\n",
       "        vertical-align: middle;\n",
       "    }\n",
       "\n",
       "    .dataframe tbody tr th {\n",
       "        vertical-align: top;\n",
       "    }\n",
       "\n",
       "    .dataframe thead th {\n",
       "        text-align: right;\n",
       "    }\n",
       "</style>\n",
       "<table border=\"1\" class=\"dataframe\">\n",
       "  <thead>\n",
       "    <tr style=\"text-align: right;\">\n",
       "      <th></th>\n",
       "      <th>patient_id</th>\n",
       "      <th>time</th>\n",
       "      <th>heart_rate</th>\n",
       "      <th>oxygen_saturation</th>\n",
       "      <th>outcome</th>\n",
       "    </tr>\n",
       "  </thead>\n",
       "  <tbody>\n",
       "    <tr>\n",
       "      <th>0</th>\n",
       "      <td>1</td>\n",
       "      <td>1</td>\n",
       "      <td>80.0</td>\n",
       "      <td>98.0</td>\n",
       "      <td>1</td>\n",
       "    </tr>\n",
       "    <tr>\n",
       "      <th>1</th>\n",
       "      <td>1</td>\n",
       "      <td>2</td>\n",
       "      <td>85.0</td>\n",
       "      <td>95.0</td>\n",
       "      <td>0</td>\n",
       "    </tr>\n",
       "    <tr>\n",
       "      <th>2</th>\n",
       "      <td>1</td>\n",
       "      <td>3</td>\n",
       "      <td>NaN</td>\n",
       "      <td>92.0</td>\n",
       "      <td>1</td>\n",
       "    </tr>\n",
       "    <tr>\n",
       "      <th>3</th>\n",
       "      <td>1</td>\n",
       "      <td>4</td>\n",
       "      <td>90.0</td>\n",
       "      <td>NaN</td>\n",
       "      <td>1</td>\n",
       "    </tr>\n",
       "    <tr>\n",
       "      <th>4</th>\n",
       "      <td>1</td>\n",
       "      <td>5</td>\n",
       "      <td>100.0</td>\n",
       "      <td>97.0</td>\n",
       "      <td>0</td>\n",
       "    </tr>\n",
       "    <tr>\n",
       "      <th>5</th>\n",
       "      <td>2</td>\n",
       "      <td>1</td>\n",
       "      <td>NaN</td>\n",
       "      <td>94.0</td>\n",
       "      <td>0</td>\n",
       "    </tr>\n",
       "    <tr>\n",
       "      <th>6</th>\n",
       "      <td>2</td>\n",
       "      <td>2</td>\n",
       "      <td>95.0</td>\n",
       "      <td>NaN</td>\n",
       "      <td>1</td>\n",
       "    </tr>\n",
       "    <tr>\n",
       "      <th>7</th>\n",
       "      <td>2</td>\n",
       "      <td>3</td>\n",
       "      <td>90.0</td>\n",
       "      <td>90.0</td>\n",
       "      <td>1</td>\n",
       "    </tr>\n",
       "    <tr>\n",
       "      <th>8</th>\n",
       "      <td>2</td>\n",
       "      <td>4</td>\n",
       "      <td>NaN</td>\n",
       "      <td>87.0</td>\n",
       "      <td>0</td>\n",
       "    </tr>\n",
       "  </tbody>\n",
       "</table>\n",
       "</div>"
      ],
      "text/plain": [
       "   patient_id  time  heart_rate  oxygen_saturation  outcome\n",
       "0           1     1        80.0               98.0        1\n",
       "1           1     2        85.0               95.0        0\n",
       "2           1     3         NaN               92.0        1\n",
       "3           1     4        90.0                NaN        1\n",
       "4           1     5       100.0               97.0        0\n",
       "5           2     1         NaN               94.0        0\n",
       "6           2     2        95.0                NaN        1\n",
       "7           2     3        90.0               90.0        1\n",
       "8           2     4         NaN               87.0        0"
      ]
     },
     "execution_count": 20,
     "metadata": {},
     "output_type": "execute_result"
    }
   ],
   "source": [
    "# Step 1: Load Example Data\n",
    "import pandas as pd\n",
    "\n",
    "# Simulated sample data \n",
    "data = pd.DataFrame({\n",
    "    'patient_id': [1,1,1,1,1,2,2,2,2],\n",
    "    'time': [1,2,3,4,5,1,2,3,4],\n",
    "    'heart_rate': [80, 85, None, 90, 100, None, 95, 90, None],\n",
    "    'oxygen_saturation': [98, 95, 92, None, 97, 94, None, 90, 87],\n",
    "    'outcome': [1, 0, 1, 1, 0, 0, 1, 1, 0] # 1: something bad happened, 0: no critical event\n",
    "})\n",
    "data"
   ]
  },
  {
   "cell_type": "markdown",
   "id": "d0db42a3",
   "metadata": {},
   "source": [
    "## Step 2: Detect Missing Values\n",
    "Let’s see where the missing data is and discuss how we might handle it."
   ]
  },
  {
   "cell_type": "code",
   "execution_count": 21,
   "id": "2985707f",
   "metadata": {},
   "outputs": [
    {
     "data": {
      "application/vnd.microsoft.datawrangler.viewer.v0+json": {
       "columns": [
        {
         "name": "index",
         "rawType": "object",
         "type": "string"
        },
        {
         "name": "0",
         "rawType": "int64",
         "type": "integer"
        }
       ],
       "ref": "f292ebab-b940-4a84-83cf-3a4e9e2b4ab2",
       "rows": [
        [
         "patient_id",
         "0"
        ],
        [
         "time",
         "0"
        ],
        [
         "heart_rate",
         "3"
        ],
        [
         "oxygen_saturation",
         "2"
        ],
        [
         "outcome",
         "0"
        ]
       ],
       "shape": {
        "columns": 1,
        "rows": 5
       }
      },
      "text/plain": [
       "patient_id           0\n",
       "time                 0\n",
       "heart_rate           3\n",
       "oxygen_saturation    2\n",
       "outcome              0\n",
       "dtype: int64"
      ]
     },
     "execution_count": 21,
     "metadata": {},
     "output_type": "execute_result"
    }
   ],
   "source": [
    "data.isna().sum()"
   ]
  },
  {
   "cell_type": "markdown",
   "id": "b0a291da",
   "metadata": {},
   "source": [
    "## Step 3: Handle Missing Data\n",
    "- We can **fill in missing values** (called imputation).\n",
    "- Here we use a simple technique: **fill with the previous value**."
   ]
  },
  {
   "cell_type": "code",
   "execution_count": 22,
   "id": "a4e0f72c",
   "metadata": {},
   "outputs": [
    {
     "data": {
      "application/vnd.microsoft.datawrangler.viewer.v0+json": {
       "columns": [
        {
         "name": "index",
         "rawType": "int64",
         "type": "integer"
        },
        {
         "name": "patient_id",
         "rawType": "int64",
         "type": "integer"
        },
        {
         "name": "time",
         "rawType": "int64",
         "type": "integer"
        },
        {
         "name": "heart_rate",
         "rawType": "float64",
         "type": "float"
        },
        {
         "name": "oxygen_saturation",
         "rawType": "float64",
         "type": "float"
        },
        {
         "name": "outcome",
         "rawType": "int64",
         "type": "integer"
        }
       ],
       "ref": "3c858278-84a5-434d-a192-3aedd2cfd6e7",
       "rows": [
        [
         "0",
         "1",
         "1",
         "80.0",
         "98.0",
         "1"
        ],
        [
         "1",
         "1",
         "2",
         "85.0",
         "95.0",
         "0"
        ],
        [
         "2",
         "1",
         "3",
         "85.0",
         "92.0",
         "1"
        ],
        [
         "3",
         "1",
         "4",
         "90.0",
         "92.0",
         "1"
        ],
        [
         "4",
         "1",
         "5",
         "100.0",
         "97.0",
         "0"
        ],
        [
         "5",
         "2",
         "1",
         "100.0",
         "94.0",
         "0"
        ],
        [
         "6",
         "2",
         "2",
         "95.0",
         "94.0",
         "1"
        ],
        [
         "7",
         "2",
         "3",
         "90.0",
         "90.0",
         "1"
        ],
        [
         "8",
         "2",
         "4",
         "90.0",
         "87.0",
         "0"
        ]
       ],
       "shape": {
        "columns": 5,
        "rows": 9
       }
      },
      "text/html": [
       "<div>\n",
       "<style scoped>\n",
       "    .dataframe tbody tr th:only-of-type {\n",
       "        vertical-align: middle;\n",
       "    }\n",
       "\n",
       "    .dataframe tbody tr th {\n",
       "        vertical-align: top;\n",
       "    }\n",
       "\n",
       "    .dataframe thead th {\n",
       "        text-align: right;\n",
       "    }\n",
       "</style>\n",
       "<table border=\"1\" class=\"dataframe\">\n",
       "  <thead>\n",
       "    <tr style=\"text-align: right;\">\n",
       "      <th></th>\n",
       "      <th>patient_id</th>\n",
       "      <th>time</th>\n",
       "      <th>heart_rate</th>\n",
       "      <th>oxygen_saturation</th>\n",
       "      <th>outcome</th>\n",
       "    </tr>\n",
       "  </thead>\n",
       "  <tbody>\n",
       "    <tr>\n",
       "      <th>0</th>\n",
       "      <td>1</td>\n",
       "      <td>1</td>\n",
       "      <td>80.0</td>\n",
       "      <td>98.0</td>\n",
       "      <td>1</td>\n",
       "    </tr>\n",
       "    <tr>\n",
       "      <th>1</th>\n",
       "      <td>1</td>\n",
       "      <td>2</td>\n",
       "      <td>85.0</td>\n",
       "      <td>95.0</td>\n",
       "      <td>0</td>\n",
       "    </tr>\n",
       "    <tr>\n",
       "      <th>2</th>\n",
       "      <td>1</td>\n",
       "      <td>3</td>\n",
       "      <td>85.0</td>\n",
       "      <td>92.0</td>\n",
       "      <td>1</td>\n",
       "    </tr>\n",
       "    <tr>\n",
       "      <th>3</th>\n",
       "      <td>1</td>\n",
       "      <td>4</td>\n",
       "      <td>90.0</td>\n",
       "      <td>92.0</td>\n",
       "      <td>1</td>\n",
       "    </tr>\n",
       "    <tr>\n",
       "      <th>4</th>\n",
       "      <td>1</td>\n",
       "      <td>5</td>\n",
       "      <td>100.0</td>\n",
       "      <td>97.0</td>\n",
       "      <td>0</td>\n",
       "    </tr>\n",
       "    <tr>\n",
       "      <th>5</th>\n",
       "      <td>2</td>\n",
       "      <td>1</td>\n",
       "      <td>100.0</td>\n",
       "      <td>94.0</td>\n",
       "      <td>0</td>\n",
       "    </tr>\n",
       "    <tr>\n",
       "      <th>6</th>\n",
       "      <td>2</td>\n",
       "      <td>2</td>\n",
       "      <td>95.0</td>\n",
       "      <td>94.0</td>\n",
       "      <td>1</td>\n",
       "    </tr>\n",
       "    <tr>\n",
       "      <th>7</th>\n",
       "      <td>2</td>\n",
       "      <td>3</td>\n",
       "      <td>90.0</td>\n",
       "      <td>90.0</td>\n",
       "      <td>1</td>\n",
       "    </tr>\n",
       "    <tr>\n",
       "      <th>8</th>\n",
       "      <td>2</td>\n",
       "      <td>4</td>\n",
       "      <td>90.0</td>\n",
       "      <td>87.0</td>\n",
       "      <td>0</td>\n",
       "    </tr>\n",
       "  </tbody>\n",
       "</table>\n",
       "</div>"
      ],
      "text/plain": [
       "   patient_id  time  heart_rate  oxygen_saturation  outcome\n",
       "0           1     1        80.0               98.0        1\n",
       "1           1     2        85.0               95.0        0\n",
       "2           1     3        85.0               92.0        1\n",
       "3           1     4        90.0               92.0        1\n",
       "4           1     5       100.0               97.0        0\n",
       "5           2     1       100.0               94.0        0\n",
       "6           2     2        95.0               94.0        1\n",
       "7           2     3        90.0               90.0        1\n",
       "8           2     4        90.0               87.0        0"
      ]
     },
     "execution_count": 22,
     "metadata": {},
     "output_type": "execute_result"
    }
   ],
   "source": [
    "data_filled = data.ffill()\n",
    "data_filled"
   ]
  },
  {
   "cell_type": "markdown",
   "id": "e4a63b75",
   "metadata": {},
   "source": [
    "## Step 4: Train a Simple AI Model\n",
    "Let’s use a very basic AI model (logistic regression) to predict the outcome.\n",
    "\n",
    "Now that we have filled in missing values, let's use this cleaned data to train an AI model. \n",
    "\n",
    "We will:\n",
    "\n",
    "1. Use two important features: heart_rate and oxygen_saturation.\n",
    "\n",
    "2. Try to predict the outcome (0 = stable, 1 = critical).\n",
    "\n",
    "3. Train a very simple model called Logistic Regression. It's often used for yes/no predictions.\n",
    "\n",
    "4. Split the data into:\n",
    "\n",
    "    * Training set (what the model learns from)\n",
    "    * Testing set (to check how well it learned)"
   ]
  },
  {
   "cell_type": "code",
   "execution_count": 23,
   "id": "41d200c9",
   "metadata": {},
   "outputs": [
    {
     "name": "stdout",
     "output_type": "stream",
     "text": [
      "The accuracy score: 0.6666666666666666\n"
     ]
    }
   ],
   "source": [
    "from sklearn.linear_model import LogisticRegression\n",
    "from sklearn.model_selection import train_test_split\n",
    "from sklearn.metrics import accuracy_score\n",
    "\n",
    "# Predict the outcome by using heart rate and oxygen saturation\n",
    "X = data_filled[['heart_rate', 'oxygen_saturation']]\n",
    "y = data_filled['outcome']\n",
    "\n",
    "# Split the data into training and test sets (67% train, 33% test)\n",
    "X_train, X_test, y_train, y_test = train_test_split(X, y, test_size=0.33, random_state=42)\n",
    "\n",
    "# Create the model\n",
    "model = LogisticRegression()\n",
    "\n",
    "# Train the model using the training data\n",
    "model.fit(X_train, y_train)\n",
    "\n",
    "# Predict outcomes for the test data\n",
    "predictions = model.predict(X_test)\n",
    "\n",
    "# Check how accurate the model is\n",
    "probs = model.predict_proba(X_test)[:, 1]\n",
    "acc = accuracy_score(y_test, predictions)\n",
    "\n",
    "print('The accuracy score:', acc)"
   ]
  },
  {
   "cell_type": "markdown",
   "id": "ba0e58c0",
   "metadata": {},
   "source": [
    "## Understanding Model Performance with Visuals\n",
    "\n",
    "Now let’s look at how well our model performs using easy-to-understand graphs:\n",
    "\n",
    "__Confusion Matrix__\n",
    "This shows how many times the model was right or wrong:\n",
    "\n",
    " * ✅ True Positive: The model _predicted 1_ and it was _actually 1_.\n",
    " * ❌ False Positive: The model _predicted 1_ but it was _actually 0_.\n",
    " * ✅ True Negative: The model _predicted 0_ and it was _actually 0_.\n",
    " * ❌ False Negative: The model _predicted 0_ but it was _actually 1_.\n",
    "\n",
    "__ROC Curve (Receiver Operating Characteristic)__\n",
    "This graph tells us how good the model is at distinguishing between the two classes.\n",
    " * The closer the curve is to the top-left corner, the better the model.\n",
    " * The AUC (Area Under Curve) tells us the overall performance (1.0 = perfect, 0.5 = random).\n",
    "\n",
    "__Prediction Probability Distribution__\n",
    "\n",
    "This shows __how confident__ the model is when it makes predictions."
   ]
  },
  {
   "cell_type": "code",
   "execution_count": 24,
   "id": "009bb078",
   "metadata": {},
   "outputs": [
    {
     "data": {
      "image/png": "[encoded data removed]",
      "text/plain": [
       "<Figure size 640x480 with 2 Axes>"
      ]
     },
     "metadata": {},
     "output_type": "display_data"
    },
    {
     "data": {
      "image/png": "[encoded data removed]",
      "text/plain": [
       "<Figure size 640x480 with 1 Axes>"
      ]
     },
     "metadata": {},
     "output_type": "display_data"
    },
    {
     "data": {
      "image/png": "[encoded data removed]",
      "text/plain": [
       "<Figure size 640x480 with 1 Axes>"
      ]
     },
     "metadata": {},
     "output_type": "display_data"
    }
   ],
   "source": [
    "import matplotlib.pyplot as plt\n",
    "import seaborn as sns\n",
    "from sklearn.metrics import confusion_matrix, ConfusionMatrixDisplay, roc_curve, auc\n",
    "\n",
    "# Confusion Matrix\n",
    "cm = confusion_matrix(y_test, predictions)\n",
    "fig_cm, ax_cm = plt.subplots()\n",
    "ConfusionMatrixDisplay(cm, display_labels=[0, 1]).plot(ax=ax_cm)\n",
    "ax_cm.set_title(f'Confusion Matrix (Accuracy = {accuracy_score(y_test, predictions):.2f})')\n",
    "plt.show()\n",
    "\n",
    "# ROC Curve\n",
    "fpr, tpr, thresholds = roc_curve(y_test, probs)\n",
    "roc_auc = auc(fpr, tpr)\n",
    "fig_roc, ax_roc = plt.subplots()\n",
    "ax_roc.plot(fpr, tpr, label=f'ROC Curve (AUC = {roc_auc:.2f})')\n",
    "ax_roc.plot([0, 1], [0, 1], linestyle='--', color='gray')\n",
    "ax_roc.set_title(\"ROC Curve\")\n",
    "ax_roc.set_xlabel(\"False Positive Rate\")\n",
    "ax_roc.set_ylabel(\"True Positive Rate\")\n",
    "ax_roc.legend()\n",
    "plt.show()\n",
    "\n",
    "# Prediction Distribution\n",
    "fig_dist, ax_dist = plt.subplots()\n",
    "sns.histplot(probs[y_test == 0], label=\"Class 0\", color=\"skyblue\", kde=True, ax=ax_dist)\n",
    "sns.histplot(probs[y_test == 1], label=\"Class 1\", color=\"salmon\", kde=True, ax=ax_dist)\n",
    "ax_dist.set_title(\"Prediction Score Distribution by Class\")\n",
    "ax_dist.set_xlabel(\"Predicted Probability\")\n",
    "ax_dist.legend()\n",
    "plt.show()"
   ]
  },
  {
   "cell_type": "markdown",
   "id": "ca29f6b6",
   "metadata": {},
   "source": [
    "🎉 **Conclusion**: \n",
    "\n",
    "This simple model helps us see how missing data is handled and how we can start using AI tools in healthcare carefully and responsibly."
   ]
  }
 ],
 "metadata": {
  "kernelspec": {
   "display_name": "survival_env",
   "language": "python",
   "name": "python3"
  },
  "language_info": {
   "codemirror_mode": {
    "name": "ipython",
    "version": 3
   },
   "file_extension": ".py",
   "mimetype": "text/x-python",
   "name": "python",
   "nbconvert_exporter": "python",
   "pygments_lexer": "ipython3",
   "version": "3.10.13"
  }
 },
 "nbformat": 4,
 "nbformat_minor": 5
}
