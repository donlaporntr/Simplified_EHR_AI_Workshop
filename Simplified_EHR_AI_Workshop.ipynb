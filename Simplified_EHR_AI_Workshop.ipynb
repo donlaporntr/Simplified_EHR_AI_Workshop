{
 "cells": [
  {
   "cell_type": "markdown",
   "id": "789ed9c0",
   "metadata": {},
   "source": [
    "# Introduction: Bias in EHR Data and Its Impact on AI Models\n",
    "\n",
    "This notebook explores how biases within Electronic Health Records (EHR) data -such as differences in disease prevalence across gender, ethnicity, and age- can impact the performance and outcomes of AI models in healthcare. Our analysis investigates how underlying demographic disparities influence model predictions and may contribute to healthcare inequities.\n",
    "\n",
    "We begin by visualizing these demographic patterns in our dataset, then consider their implications for AI model development and evaluation."
   ]
  },
  {
   "cell_type": "markdown",
   "id": "41144595",
   "metadata": {},
   "source": [
    "## Import Libraries"
   ]
  },
  {
   "cell_type": "code",
   "execution_count": 1,
   "id": "8dedd77e",
   "metadata": {},
   "outputs": [],
   "source": [
    "import pandas as pd\n",
    "from scipy.stats import ttest_ind\n",
    "import matplotlib.pyplot as plt\n",
    "import numpy as np\n",
    "from sklearn.model_selection import train_test_split\n",
    "from sklearn.ensemble import RandomForestClassifier\n",
    "from sklearn.impute import SimpleImputer\n",
    "from sklearn.pipeline import Pipeline\n",
    "from sklearn.metrics import classification_report, confusion_matrix\n",
    "import warnings"
   ]
  },
  {
   "cell_type": "markdown",
   "id": "d0db42a3",
   "metadata": {},
   "source": [
    "# 📊 Basic Visualizations"
   ]
  },
  {
   "cell_type": "code",
   "execution_count": null,
   "id": "2985707f",
   "metadata": {},
   "outputs": [],
   "source": [
    "# Data loading\n",
    "\n",
    "df = pd.read_csv(\"./data/training_v2.csv\")\n",
    "keys = pd.read_csv(\"./data/WiDS_Datathon_2020_Dictionary.csv\")"
   ]
  },
  {
   "cell_type": "code",
   "execution_count": null,
   "id": "6a303352",
   "metadata": {},
   "outputs": [],
   "source": [
    "def bucket_plot(df, x_col, y_col, num_buckets=10, xlabel=None, ylabel=None, title=\"Bucket Scatter Plot\"):\n",
    "    df = df.copy()\n",
    "    df[\"xcol\"] = df.eval(x_col)\n",
    "    df[\"ycol\"] = df.eval(y_col)\n",
    "    df = df[[\"xcol\", \"ycol\"]].dropna()\n",
    "    df[\"bucket\"], edges = pd.cut(df[\"xcol\"], bins=num_buckets, retbins=True, labels=False)\n",
    "    \n",
    "    bucket_stats = df.groupby(\"bucket\").agg(\n",
    "        mean_x=(\"xcol\", \"mean\"),\n",
    "        mean_y=(\"ycol\", \"mean\")\n",
    "    ).dropna()\n",
    "    \n",
    "    plt.scatter(bucket_stats[\"mean_x\"], bucket_stats[\"mean_y\"], color='b', edgecolors='black', alpha=0.7)\n",
    "    \n",
    "    plt.xlabel(xlabel if xlabel else x_col)\n",
    "    plt.ylabel(ylabel if ylabel else y_col)\n",
    "    plt.title(title)\n",
    "    \n",
    "    plt.show()"
   ]
  },
  {
   "cell_type": "markdown",
   "id": "b0a291da",
   "metadata": {},
   "source": [
    "## Age Distribution:"
   ]
  },
  {
   "cell_type": "code",
   "execution_count": null,
   "id": "a4e0f72c",
   "metadata": {},
   "outputs": [
    {
     "data": {
      "application/vnd.microsoft.datawrangler.viewer.v0+json": {
       "columns": [
        {
         "name": "index",
         "rawType": "int64",
         "type": "integer"
        },
        {
         "name": "patient_id",
         "rawType": "int64",
         "type": "integer"
        },
        {
         "name": "time",
         "rawType": "int64",
         "type": "integer"
        },
        {
         "name": "heart_rate",
         "rawType": "float64",
         "type": "float"
        },
        {
         "name": "oxygen_saturation",
         "rawType": "float64",
         "type": "float"
        },
        {
         "name": "outcome",
         "rawType": "int64",
         "type": "integer"
        }
       ],
       "ref": "3c858278-84a5-434d-a192-3aedd2cfd6e7",
       "rows": [
        [
         "0",
         "1",
         "1",
         "80.0",
         "98.0",
         "1"
        ],
        [
         "1",
         "1",
         "2",
         "85.0",
         "95.0",
         "0"
        ],
        [
         "2",
         "1",
         "3",
         "85.0",
         "92.0",
         "1"
        ],
        [
         "3",
         "1",
         "4",
         "90.0",
         "92.0",
         "1"
        ],
        [
         "4",
         "1",
         "5",
         "100.0",
         "97.0",
         "0"
        ],
        [
         "5",
         "2",
         "1",
         "100.0",
         "94.0",
         "0"
        ],
        [
         "6",
         "2",
         "2",
         "95.0",
         "94.0",
         "1"
        ],
        [
         "7",
         "2",
         "3",
         "90.0",
         "90.0",
         "1"
        ],
        [
         "8",
         "2",
         "4",
         "90.0",
         "87.0",
         "0"
        ]
       ],
       "shape": {
        "columns": 5,
        "rows": 9
       }
      },
      "text/html": [
       "<div>\n",
       "<style scoped>\n",
       "    .dataframe tbody tr th:only-of-type {\n",
       "        vertical-align: middle;\n",
       "    }\n",
       "\n",
       "    .dataframe tbody tr th {\n",
       "        vertical-align: top;\n",
       "    }\n",
       "\n",
       "    .dataframe thead th {\n",
       "        text-align: right;\n",
       "    }\n",
       "</style>\n",
       "<table border=\"1\" class=\"dataframe\">\n",
       "  <thead>\n",
       "    <tr style=\"text-align: right;\">\n",
       "      <th></th>\n",
       "      <th>patient_id</th>\n",
       "      <th>time</th>\n",
       "      <th>heart_rate</th>\n",
       "      <th>oxygen_saturation</th>\n",
       "      <th>outcome</th>\n",
       "    </tr>\n",
       "  </thead>\n",
       "  <tbody>\n",
       "    <tr>\n",
       "      <th>0</th>\n",
       "      <td>1</td>\n",
       "      <td>1</td>\n",
       "      <td>80.0</td>\n",
       "      <td>98.0</td>\n",
       "      <td>1</td>\n",
       "    </tr>\n",
       "    <tr>\n",
       "      <th>1</th>\n",
       "      <td>1</td>\n",
       "      <td>2</td>\n",
       "      <td>85.0</td>\n",
       "      <td>95.0</td>\n",
       "      <td>0</td>\n",
       "    </tr>\n",
       "    <tr>\n",
       "      <th>2</th>\n",
       "      <td>1</td>\n",
       "      <td>3</td>\n",
       "      <td>85.0</td>\n",
       "      <td>92.0</td>\n",
       "      <td>1</td>\n",
       "    </tr>\n",
       "    <tr>\n",
       "      <th>3</th>\n",
       "      <td>1</td>\n",
       "      <td>4</td>\n",
       "      <td>90.0</td>\n",
       "      <td>92.0</td>\n",
       "      <td>1</td>\n",
       "    </tr>\n",
       "    <tr>\n",
       "      <th>4</th>\n",
       "      <td>1</td>\n",
       "      <td>5</td>\n",
       "      <td>100.0</td>\n",
       "      <td>97.0</td>\n",
       "      <td>0</td>\n",
       "    </tr>\n",
       "    <tr>\n",
       "      <th>5</th>\n",
       "      <td>2</td>\n",
       "      <td>1</td>\n",
       "      <td>100.0</td>\n",
       "      <td>94.0</td>\n",
       "      <td>0</td>\n",
       "    </tr>\n",
       "    <tr>\n",
       "      <th>6</th>\n",
       "      <td>2</td>\n",
       "      <td>2</td>\n",
       "      <td>95.0</td>\n",
       "      <td>94.0</td>\n",
       "      <td>1</td>\n",
       "    </tr>\n",
       "    <tr>\n",
       "      <th>7</th>\n",
       "      <td>2</td>\n",
       "      <td>3</td>\n",
       "      <td>90.0</td>\n",
       "      <td>90.0</td>\n",
       "      <td>1</td>\n",
       "    </tr>\n",
       "    <tr>\n",
       "      <th>8</th>\n",
       "      <td>2</td>\n",
       "      <td>4</td>\n",
       "      <td>90.0</td>\n",
       "      <td>87.0</td>\n",
       "      <td>0</td>\n",
       "    </tr>\n",
       "  </tbody>\n",
       "</table>\n",
       "</div>"
      ],
      "text/plain": [
       "   patient_id  time  heart_rate  oxygen_saturation  outcome\n",
       "0           1     1        80.0               98.0        1\n",
       "1           1     2        85.0               95.0        0\n",
       "2           1     3        85.0               92.0        1\n",
       "3           1     4        90.0               92.0        1\n",
       "4           1     5       100.0               97.0        0\n",
       "5           2     1       100.0               94.0        0\n",
       "6           2     2        95.0               94.0        1\n",
       "7           2     3        90.0               90.0        1\n",
       "8           2     4        90.0               87.0        0"
      ]
     },
     "execution_count": 22,
     "metadata": {},
     "output_type": "execute_result"
    }
   ],
   "source": [
    "# Age distribution\n",
    "df['age'].hist(bins=20)\n",
    "plt.xlabel('Age')\n",
    "plt.ylabel('Number of Patients')\n",
    "plt.title('Age Distribution')\n",
    "plt.show()"
   ]
  },
  {
   "cell_type": "markdown",
   "id": "e4a63b75",
   "metadata": {},
   "source": [
    "## Gender Distribution:"
   ]
  },
  {
   "cell_type": "code",
   "execution_count": null,
   "id": "41d200c9",
   "metadata": {},
   "outputs": [
    {
     "name": "stdout",
     "output_type": "stream",
     "text": [
      "The accuracy score: 0.6666666666666666\n"
     ]
    }
   ],
   "source": [
    "# Gender distribution\n",
    "plt.figure()\n",
    "df['gender'].value_counts().plot(kind='bar')\n",
    "plt.title('Gender Distribution')\n",
    "plt.show()"
   ]
  },
  {
   "cell_type": "code",
   "execution_count": null,
   "id": "24870ece",
   "metadata": {},
   "outputs": [],
   "source": [
    "print(df.eval(\"gender == 'M'\").sum())\n",
    "print(df.eval(\"gender == 'F'\").sum())"
   ]
  },
  {
   "cell_type": "code",
   "execution_count": null,
   "id": "c35aa635",
   "metadata": {},
   "outputs": [],
   "source": [
    "print(\"Male percentage:\", df.eval(\"gender == 'M'\").mean())\n",
    "print(\"Female percentage:\", df.eval(\"gender == 'F'\").mean())"
   ]
  },
  {
   "cell_type": "markdown",
   "id": "ba0e58c0",
   "metadata": {},
   "source": [
    "## Disease Prevalence by Gender"
   ]
  },
  {
   "cell_type": "code",
   "execution_count": null,
   "id": "009bb078",
   "metadata": {},
   "outputs": [],
   "source": [
    "# Disease prevalence by gender\n",
    "diseases = ['leukemia', 'hepatic_failure', 'immunosuppression', 'lymphoma', 'cirrhosis', 'aids']\n",
    "results = {}\n",
    "for disease in diseases:\n",
    "    t_stat, p_val = ttest_ind(\n",
    "        df.query(\"gender == 'M'\")[disease], \n",
    "        df.query(\"gender == 'F'\")[disease], \n",
    "        equal_var=False, \n",
    "        nan_policy='omit'\n",
    "    )\n",
    "    results[disease] = {'tstat M = F': t_stat}\n",
    "\n",
    "pd.concat([\n",
    "    df.groupby('gender')[diseases].mean(), \n",
    "    pd.DataFrame(results)\n",
    "])"
   ]
  },
  {
   "cell_type": "code",
   "execution_count": null,
   "id": "b32922c2",
   "metadata": {},
   "outputs": [],
   "source": [
    "# Disease prevalence by gender\n",
    "plt.figure()\n",
    "df_disease = df[['gender'] + diseases].copy()\n",
    "df_disease = df_disease.melt(id_vars='gender', var_name='disease', value_name='presence')\n",
    "df_disease = df_disease[df_disease['presence'] == 1]\n",
    "df_disease.groupby(['disease', 'gender']).size().unstack().plot(kind='bar', stacked=True)\n",
    "plt.title('Disease Prevalence by Gender')\n",
    "plt.ylabel('Count')\n",
    "plt.show()"
   ]
  },
  {
   "cell_type": "code",
   "execution_count": null,
   "id": "269c8435",
   "metadata": {},
   "outputs": [],
   "source": [
    "# Total number of disease presence occurrences (across all diseases and genders)\n",
    "total_disease_occurrences = df[diseases].sum().sum()\n",
    "print(total_disease_occurrences)"
   ]
  },
  {
   "cell_type": "markdown",
   "id": "77ec72d6",
   "metadata": {},
   "source": [
    "## Disease Prevalence by Ethnicity"
   ]
  },
  {
   "cell_type": "code",
   "execution_count": null,
   "id": "9f241dc7",
   "metadata": {},
   "outputs": [],
   "source": [
    "# Calculate Proportion of Encounters per Ethnicity\n",
    "df.groupby('ethnicity').encounter_id.count() / len(df)"
   ]
  },
  {
   "cell_type": "code",
   "execution_count": null,
   "id": "959db03a",
   "metadata": {},
   "outputs": [],
   "source": [
    "ethnicity = df.groupby('ethnicity').encounter_id.count()\n",
    "ethnicity.plot(kind='bar', figsize=(10,6))\n",
    "plt.title('Distribution of Ethnicity')\n",
    "plt.xlabel('Ethnicity')\n",
    "plt.ylabel('Number of Encounters')\n",
    "plt.tight_layout()\n",
    "plt.show()"
   ]
  },
  {
   "cell_type": "code",
   "execution_count": null,
   "id": "e4ea2928",
   "metadata": {},
   "outputs": [],
   "source": [
    "# Calculate Mean Prevalence of Diseases by Ethnicity\n",
    "df.groupby('ethnicity')[diseases].mean() "
   ]
  },
  {
   "cell_type": "code",
   "execution_count": null,
   "id": "965fdb78",
   "metadata": {},
   "outputs": [],
   "source": [
    "# Visualize Disease Prevalence by Ethnicity\n",
    "disease_by_ethnicity = df.groupby('ethnicity')[diseases].mean()\n",
    "disease_by_ethnicity.plot(kind='bar', figsize=(10, 6))\n",
    "plt.title('Mean Prevalence of Diseases by Ethnicity')\n",
    "plt.xlabel('Ethnicity')\n",
    "plt.ylabel('Mean Prevalence')\n",
    "plt.legend(title='Disease')\n",
    "plt.tight_layout()\n",
    "plt.show()"
   ]
  },
  {
   "cell_type": "markdown",
   "id": "dc25e337",
   "metadata": {},
   "source": [
    "## 🔍 Findings: \n",
    "- __Mean age is 62__, left skewed. Younger people is underrepresented.\n",
    "- __Similar number of male and female__\n",
    "    - __Men are likely to have disease__.\n",
    "    - The difference is significant in cirrhosis, hepatic failure, aids, and leukemia\n",
    "        - Guess: __cirrhosis because men drink more__, __aids because gays are categorized as men__\n",
    "- __77% of patients are white__.\n",
    "    - Caucasian vs Native American shows sign. difference\n",
    "    - Caucasian vs African American shows notable difference."
   ]
  },
  {
   "cell_type": "markdown",
   "id": "bdd40a65",
   "metadata": {},
   "source": [
    "# Modelling"
   ]
  },
  {
   "cell_type": "markdown",
   "id": "c78c25f1",
   "metadata": {},
   "source": [
    "## Try throwing data in\n",
    "Exploring Connections Between Cirrhosis and Patient Characteristics"
   ]
  },
  {
   "cell_type": "code",
   "execution_count": null,
   "id": "9bffa3fc",
   "metadata": {},
   "outputs": [],
   "source": [
    "labs = [\"d1_bilirubin_max\", \"d1_bilirubin_min\", \"d1_albumin_max\", \"d1_albumin_min\"]"
   ]
  },
  {
   "cell_type": "markdown",
   "id": "831c0add",
   "metadata": {},
   "source": [
    "### Albumin Levels"
   ]
  },
  {
   "cell_type": "code",
   "execution_count": null,
   "id": "d5be78be",
   "metadata": {},
   "outputs": [],
   "source": [
    "# Albumin & Cirrhosis Analysis\n",
    "bucket_plot(df, \"d1_albumin_max\", \"cirrhosis\")\n",
    "bucket_plot(df, \"d1_albumin_min\", \"cirrhosis\")"
   ]
  },
  {
   "cell_type": "markdown",
   "id": "81a47324",
   "metadata": {},
   "source": [
    "Both __maximum__ and __minimum__ albumin levels showed a clear association with cirrhosis. Lower albumin levels often coincided with higher cirrhosis prevalence."
   ]
  },
  {
   "cell_type": "markdown",
   "id": "a2dd5915",
   "metadata": {},
   "source": [
    "### Bilirubin Levels:"
   ]
  },
  {
   "cell_type": "code",
   "execution_count": null,
   "id": "2c6e0fc0",
   "metadata": {},
   "outputs": [],
   "source": [
    "# Bilirubin & Cirrhosis Analysis\n",
    "bucket_plot(df, \"d1_bilirubin_max\", \"cirrhosis\")\n",
    "bucket_plot(df, \"d1_bilirubin_min\", \"cirrhosis\")"
   ]
  },
  {
   "cell_type": "markdown",
   "id": "bed1444a",
   "metadata": {},
   "source": [
    "Similarly, patients with __higher bilirubin max and min levels__ tended to have an increased likelihood of cirrhosis, reflecting the liver's impaired function."
   ]
  },
  {
   "cell_type": "markdown",
   "id": "69feefce",
   "metadata": {},
   "source": [
    "### Age:"
   ]
  },
  {
   "cell_type": "code",
   "execution_count": null,
   "id": "00dd2a52",
   "metadata": {},
   "outputs": [],
   "source": [
    "# Age & Cirrhosis Prevalence\n",
    "bucket_plot(df, \"age\", \"cirrhosis\")"
   ]
  },
  {
   "cell_type": "markdown",
   "id": "880dd035",
   "metadata": {},
   "source": [
    "The incidence of cirrhosis also increases with age, highlighting its severe impact on elderly patients aged 50-60 years."
   ]
  },
  {
   "cell_type": "markdown",
   "id": "a0aab188",
   "metadata": {},
   "source": [
    "### Define model"
   ]
  },
  {
   "cell_type": "code",
   "execution_count": null,
   "id": "88202009",
   "metadata": {},
   "outputs": [],
   "source": [
    "def train_model (df) :\n",
    "    features = [\n",
    "        'd1_albumin_max', 'd1_albumin_min',\n",
    "        'd1_inr_max','d1_inr_min',\n",
    "        'd1_bilirubin_max', 'd1_bilirubin_min',\n",
    "        'd1_platelets_min',\n",
    "        'map_apache', 'd1_mbp_min',\n",
    "        'creatinine_apache', 'd1_creatinine_max',\n",
    "        'urineoutput_apache', \n",
    "        'bun_apache',\n",
    "        'd1_sodium_min', 'd1_potassium_max',\n",
    "        'd1_temp_max', 'd1_temp_min',\n",
    "        'd1_wbc_max', 'd1_wbc_min',\n",
    "        'd1_lactate_max'\n",
    "    ]\n",
    "    \n",
    "    groups = [\"gender\", \"age\", \"ethnicity\"]\n",
    "    \n",
    "    target = 'cirrhosis'\n",
    "    df = df.dropna(subset=[target])\n",
    "    \n",
    "    X = df[features + groups]\n",
    "    y = df[[target] + groups]\n",
    "    \n",
    "    X_train, X_test, y_train, y_test = train_test_split(X, y, test_size=0.3, random_state=42)\n",
    "    \n",
    "    model = Pipeline([\n",
    "        ('imputer', SimpleImputer(strategy='median')),\n",
    "        ('classifier', RandomForestClassifier(n_estimators=100, random_state=42))\n",
    "    ])\n",
    "    \n",
    "    model.fit(X_train[features], y_train[target])\n",
    "\n",
    "    return model, (X_test, y_test)\n",
    "\n",
    "def print_classification_report (model, validation_set, group = \"index == index\") : \n",
    "    X_test, y_test = validation_set\n",
    "    y_pred = model.predict(X_test.query(group)[features])\n",
    "    print(\"\\nClassification Report:\")\n",
    "    print(classification_report(y_test.query(group)[target], y_pred))\n",
    "\n",
    "def print_confusion_matrix (model, validation_set, group = \"index == index\") :\n",
    "    X_test, y_test = validation_set\n",
    "    y_pred = model.predict(X_test.query(group)[features])\n",
    "    cm = confusion_matrix(y_test.query(group)[target], y_pred)\n",
    "    n = len(y_test.query(group))\n",
    "\n",
    "    print(\"Confusion Matrix (Proportions):\")\n",
    "    print(f\"              Predicted 0     Predicted 1\")\n",
    "    print(f\"Actual 0      {cm[0][0] / n * 100:.2f} %          {cm[0][1] / n * 100:.2f} %\")\n",
    "    print(f\"Actual 1      {cm[1][0] / n * 100:.2f} %          {cm[1][1] / n * 100:.2f} %\")\n",
    "\n",
    "features = [\n",
    "    'd1_albumin_max', 'd1_albumin_min',\n",
    "    'd1_inr_max','d1_inr_min',\n",
    "    'd1_bilirubin_max', 'd1_bilirubin_min',\n",
    "    'd1_platelets_min',\n",
    "    'map_apache', 'd1_mbp_min',\n",
    "    'creatinine_apache', 'd1_creatinine_max',\n",
    "    'urineoutput_apache', \n",
    "    'bun_apache',\n",
    "    'd1_sodium_min', 'd1_potassium_max',\n",
    "    'd1_temp_max', 'd1_temp_min',\n",
    "    'd1_wbc_max', 'd1_wbc_min',\n",
    "    'd1_lactate_max']\n",
    "target = 'cirrhosis'"
   ]
  },
  {
   "cell_type": "code",
   "execution_count": null,
   "id": "0484558a",
   "metadata": {},
   "outputs": [],
   "source": [
    "# Training\n",
    "model, validation_set = train_model(df)"
   ]
  },
  {
   "cell_type": "code",
   "execution_count": null,
   "id": "9fb9f98d",
   "metadata": {},
   "outputs": [],
   "source": [
    "print_classification_report (model, validation_set)"
   ]
  },
  {
   "cell_type": "markdown",
   "id": "4fd29572",
   "metadata": {},
   "source": [
    "We have accuracy of 98%!!!\n",
    "\n",
    "That comes with 57% precision, 3% recall. i.e. of all cases model say has cirrhosis, only 57% has, and out of all cirrhosis cases, the model found 3%. Not ideal. Let's see the report on each of the groups."
   ]
  },
  {
   "cell_type": "code",
   "execution_count": null,
   "id": "54bafa38",
   "metadata": {},
   "outputs": [],
   "source": [
    "print_classification_report (model, validation_set, \"gender == 'M'\")"
   ]
  },
  {
   "cell_type": "code",
   "execution_count": null,
   "id": "e95d3a10",
   "metadata": {},
   "outputs": [],
   "source": [
    "print_classification_report (model, validation_set, \"gender == 'F'\")"
   ]
  },
  {
   "cell_type": "markdown",
   "id": "9b54b6e1",
   "metadata": {},
   "source": [
    "The model performs worse on Female!"
   ]
  },
  {
   "cell_type": "code",
   "execution_count": null,
   "id": "ec020ebe",
   "metadata": {},
   "outputs": [],
   "source": [
    "print_classification_report (model, validation_set, \"ethnicity == 'Native American'\")"
   ]
  },
  {
   "cell_type": "code",
   "execution_count": null,
   "id": "b40fca8b",
   "metadata": {},
   "outputs": [],
   "source": [
    "warnings.filterwarnings('ignore')\n",
    "print_classification_report (model, validation_set, \"ethnicity == 'African American'\") "
   ]
  },
  {
   "cell_type": "code",
   "execution_count": null,
   "id": "159503fa",
   "metadata": {},
   "outputs": [],
   "source": [
    "print_classification_report (model, validation_set, \"ethnicity == 'Caucasian'\")"
   ]
  },
  {
   "cell_type": "markdown",
   "id": "6ba645f9",
   "metadata": {},
   "source": [
    "> The model simply says __\"no cirrhosis\"__ to __black patients!__\n",
    "\n",
    "\n",
    "> All of this while the __model did not actually know the ethnicity of the patient__. The model __only get the lab and vital data__."
   ]
  },
  {
   "cell_type": "markdown",
   "id": "36aba43f",
   "metadata": {},
   "source": [
    "## 🛠 Fixing Precision & Recall\n",
    "\n",
    "One problem with the last model where we just throw data in is that the model optimizes for accuracy, but we don't really want accuracy. __Simply say no already gives us 97%__. What we __might want from this diagnosis model is recall and precision__. Out of all patients with disease, we __want model to say positive as many as possible (recall) but we also don't want the model to say yes all the time__, so out of all that they say yes, we want a lot to be actually positive. (precision)"
   ]
  },
  {
   "cell_type": "code",
   "execution_count": null,
   "id": "01e4a275",
   "metadata": {},
   "outputs": [],
   "source": [
    "df_size = 3000 # set a target sample size\n",
    "\n",
    "positive = df[df['cirrhosis'] == 1]\n",
    "negative = df[df['cirrhosis'] == 0]\n",
    "\n",
    "positive_sampled = positive.sample(n=df_size, replace=True, random_state=42) # sampling with replacement (since there might not be enough real cirrhosis cases, this allows duplicate rows)\n",
    "negative_sampled = negative.sample(n=df_size, replace=False, random_state=42) # sampling without replacement (because we probably have enough negative examples to avoid duplicates)\n",
    "\n",
    "df_balanced = pd.concat([negative_sampled, positive_sampled], ignore_index=True)\n",
    "\n",
    "df_balanced = df_balanced.sample(frac=1, random_state=42).reset_index(drop=True)"
   ]
  },
  {
   "cell_type": "code",
   "execution_count": null,
   "id": "f41ac8cd",
   "metadata": {},
   "outputs": [],
   "source": [
    "print(\"The number of original Dataframe:\", len(df))\n",
    "print(\"The number of rebalanced Dataframe:\", len(df_balanced))"
   ]
  },
  {
   "cell_type": "markdown",
   "id": "7b8f5e4e",
   "metadata": {},
   "source": [
    "From the __total 90k records__, we __rebalanced__ the dataframe __to only include 6k__ with equal cases and non-cases of cirrhosis. \n",
    "\n",
    ">__Now, the model can't just say no, right?__"
   ]
  },
  {
   "cell_type": "code",
   "execution_count": null,
   "id": "f69e5c3e",
   "metadata": {},
   "outputs": [],
   "source": [
    "fig, axs = plt.subplots(1, 2, figsize=(18, 6))\n",
    "\n",
    "def plot_disease_prevalence(ax, df, title):\n",
    "    df_disease = df[['gender'] + diseases].copy()\n",
    "    df_disease = df_disease.melt(id_vars='gender', var_name='disease', value_name='presence')\n",
    "    df_disease = df_disease[df_disease['presence'] == 1]\n",
    "    \n",
    "    counts = df_disease.groupby(['disease', 'gender']).size().unstack(fill_value=0)\n",
    "    counts.plot(kind='bar', stacked=True, ax=ax, color=['#1f77b4', '#ff7f0e'])\n",
    "    \n",
    "    for container in ax.containers:\n",
    "        ax.bar_label(container, fmt='%d', label_type='edge', fontsize=8)\n",
    "    \n",
    "    ax.set_title(title, fontsize=14)\n",
    "    ax.set_xlabel('Disease')\n",
    "    ax.set_ylabel('Count')\n",
    "    ax.grid(axis='y', linestyle='--', alpha=0.7)\n",
    "    ax.legend(title='Gender', loc='upper right')\n",
    "    ax.tick_params(axis='x', rotation=45)\n",
    "\n",
    "# Before rebalancing plot\n",
    "plot_disease_prevalence(axs[0], df, 'Before Rebalancing')\n",
    "\n",
    "# After rebalancing plot\n",
    "plot_disease_prevalence(axs[1], df_balanced, 'After Rebalancing')\n",
    "\n",
    "# Set overall title\n",
    "fig.suptitle('Disease Prevalence by Gender: Before and After Rebalancing', fontsize=16)\n",
    "\n",
    "plt.tight_layout()\n",
    "plt.show()"
   ]
  },
  {
   "cell_type": "code",
   "execution_count": null,
   "id": "e60f5e9c",
   "metadata": {},
   "outputs": [],
   "source": [
    "### Check If gender balance?\n",
    "print('The number of male cohort', len(df_balanced.query(\"gender == 'M'\")))\n",
    "print('The number of male cohorts with cirrhosis', len(df_balanced.query(\"gender == 'M' and cirrhosis == 1\")))"
   ]
  },
  {
   "cell_type": "code",
   "execution_count": null,
   "id": "73e2ced0",
   "metadata": {},
   "outputs": [],
   "source": [
    "print('The number of female cohort', len(df_balanced.query(\"gender == 'F'\")))\n",
    "print('The number of female cohorts with cirrhosis', len(df_balanced.query(\"gender == 'F' and cirrhosis == 1\")))"
   ]
  },
  {
   "cell_type": "code",
   "execution_count": null,
   "id": "f482b0de",
   "metadata": {},
   "outputs": [],
   "source": [
    "# Training\n",
    "model, validation_set = train_model(df_balanced)"
   ]
  },
  {
   "cell_type": "code",
   "execution_count": null,
   "id": "8c3ce246",
   "metadata": {},
   "outputs": [],
   "source": [
    "print_classification_report (model, validation_set)"
   ]
  },
  {
   "cell_type": "code",
   "execution_count": null,
   "id": "266b24cf",
   "metadata": {},
   "outputs": [],
   "source": [
    "print_confusion_matrix (model, validation_set, \"gender == 'M'\")"
   ]
  },
  {
   "cell_type": "code",
   "execution_count": null,
   "id": "f385c804",
   "metadata": {},
   "outputs": [],
   "source": [
    "print_confusion_matrix (model, validation_set, \"gender == 'F'\")"
   ]
  },
  {
   "cell_type": "markdown",
   "id": "624f530a",
   "metadata": {},
   "source": [
    "The model predicted false more often for women. It actually also wrong less often. This fits with the reality where women empirically don't have cirrhosis. Is this a good thing? \n",
    "- the model has high accuracy, precision, and recall\n",
    "- it seems that it capture the reality well.\n",
    "- what if the next patient is a heavy drinker women ? "
   ]
  },
  {
   "cell_type": "markdown",
   "id": "1f7e75af",
   "metadata": {},
   "source": [
    "# What do we think about fake data?\n",
    "- On one hand, we can create a dataset where there is a column `drinker`. We can then demonstrate that the model biased toward men being drinker, thus higher likelihood of cirrhosis.\n",
    "- On the other hand, the data is fake. That is bad in itself (?)\n",
    "\n",
    "I'm on the side supporting fake (but sensible) dataset where we only add the column drinker in this one. Then, we show that the fixed model still bias (not on saying no all the time) but on make being drinker. Then, we show yet another balanced dataset. \n",
    "\n",
    "Of course, this might just be enough already. Of course, other ideas are more than welcome!"
   ]
  },
  {
   "cell_type": "markdown",
   "id": "834b166e",
   "metadata": {},
   "source": [
    "# Appendix: Key Concepts for Interpreting AI Results in Healthcare\n",
    "\n",
    "1. Understanding the Classification Report\n",
    "* __Precision__\n",
    "\n",
    "    * Definition: The proportion of positive identifications that were actually correct.\n",
    "    * Formula:\n",
    "        $$\n",
    "        \\text{Precision} = \\frac{\\text{True Positives}}{\\text{True Positives} + \\text{False Positives}}\n",
    "        $$\n",
    "    * Example: If your __model predicted 100__ patients will recover and __80 of them actually did__, __precision = 80%__.\n",
    "\n",
    "\n",
    "* __Recall (Sensitivity)__ \n",
    "\n",
    "    * Definition: The proportion of actual positives that were identified correctly.\n",
    "    * Formula:\n",
    "        $$\n",
    "        \\text{Recall} = \\frac{\\text{True Positives}}{\\text{True Positives} + \\text{False Negatives}}\n",
    "        $$\n",
    "    * Example: If __100 patients actually recovered__ and the __model identified 80__ of them, __recall = 80%__.\n",
    "\n",
    "* __F1-score__ \n",
    "    * Definition: A single score that balances precision and recall (their harmonic mean).\n",
    "    * Good for: Imbalanced datasets where both false positives and false negatives matter.\n",
    "    * Formula:\n",
    "        $$\n",
    "        \\text{F1} = 2*\\frac{\\text{Precision} * \\text{Recall}}{\\text{Precision} + \\text{Recall}}\n",
    "        $$    \n",
    "\n",
    "\n",
    "* __Support__: The number of true instances for each label in the dataset.\n",
    "\n",
    "\n",
    "2. __Common AI Evaluation Metrics in Healthcare__\n",
    "* __AUC-ROC__: \n",
    "    Measures a model’s ability to distinguish between classes (disease vs. no disease) at various thresholds.\n",
    "\n",
    "* __Confusion Matrix__: \n",
    "    Summarizes the number of correct and incorrect predictions.\n",
    "    Example: True Positives (TP), True Negatives (TN), False Positives (FP), False Negatives (FN).\n",
    "\n",
    "* __Accuracy__: \n",
    "    Overall percentage of correct predictions.\n",
    "    Caution: Can be misleading if classes are imbalanced."
   ]
  }
 ],
 "metadata": {
  "kernelspec": {
   "display_name": "survival_env",
   "language": "python",
   "name": "python3"
  },
  "language_info": {
   "codemirror_mode": {
    "name": "ipython",
    "version": 3
   },
   "file_extension": ".py",
   "mimetype": "text/x-python",
   "name": "python",
   "nbconvert_exporter": "python",
   "pygments_lexer": "ipython3",
   "version": "3.10.13"
  }
 },
 "nbformat": 4,
 "nbformat_minor": 5
}
