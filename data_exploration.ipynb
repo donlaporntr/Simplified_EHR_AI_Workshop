{
 "cells": [
  {
   "cell_type": "code",
   "execution_count": 1,
   "id": "8ff4ad81-1a8e-4be1-9841-2682def84b28",
   "metadata": {},
   "outputs": [],
   "source": [
    "import pandas as pd\n",
    "from scipy.stats import ttest_ind\n",
    "import matplotlib.pyplot as plt\n",
    "import numpy as np\n",
    "from sklearn.model_selection import train_test_split\n",
    "from sklearn.ensemble import RandomForestClassifier\n",
    "from sklearn.impute import SimpleImputer\n",
    "from sklearn.pipeline import Pipeline\n",
    "from sklearn.metrics import classification_report, confusion_matrix\n",
    "import warnings"
   ]
  },
  {
   "cell_type": "code",
   "execution_count": 3,
   "id": "6d574677-5146-4b95-96f1-02b7f636ae10",
   "metadata": {},
   "outputs": [],
   "source": [
    "df = pd.read_csv(\"./data/training_v2.csv\")\n",
    "keys = pd.read_csv(\"./data/WiDS_Datathon_2020_Dictionary.csv\")"
   ]
  },
  {
   "cell_type": "code",
   "execution_count": 4,
   "id": "42f36e78-5215-4532-83fa-48ac7734de0f",
   "metadata": {},
   "outputs": [],
   "source": [
    "def bucket_plot(df, x_col, y_col, num_buckets=10, xlabel=None, ylabel=None, title=\"Bucket Scatter Plot\"):\n",
    "    df = df.copy()\n",
    "    df[\"xcol\"] = df.eval(x_col)\n",
    "    df[\"ycol\"] = df.eval(y_col)\n",
    "    df = df[[\"xcol\", \"ycol\"]].dropna()\n",
    "    df[\"bucket\"], edges = pd.cut(df[\"xcol\"], bins=num_buckets, retbins=True, labels=False)\n",
    "    \n",
    "    bucket_stats = df.groupby(\"bucket\").agg(\n",
    "        mean_x=(\"xcol\", \"mean\"),\n",
    "        mean_y=(\"ycol\", \"mean\")\n",
    "    ).dropna()\n",
    "    \n",
    "    plt.scatter(bucket_stats[\"mean_x\"], bucket_stats[\"mean_y\"], color='b', edgecolors='black', alpha=0.7)\n",
    "    \n",
    "    plt.xlabel(xlabel if xlabel else x_col)\n",
    "    plt.ylabel(ylabel if ylabel else y_col)\n",
    "    plt.title(title)\n",
    "    \n",
    "    plt.show()"
   ]
  },
  {
   "cell_type": "markdown",
   "id": "e26786e3-0caa-4217-9f76-6db00e7f3d20",
   "metadata": {},
   "source": [
    "# Basic Visualizations"
   ]
  },
  {
   "cell_type": "code",
   "execution_count": 5,
   "id": "15da17ff-a467-44d0-9d98-c6a058b852bf",
   "metadata": {},
   "outputs": [],
   "source": [
    "# list(df.columns)"
   ]
  },
  {
   "cell_type": "code",
   "execution_count": 6,
   "id": "9898a6ab-0711-40a2-8d1e-ad2de77802ec",
   "metadata": {},
   "outputs": [
    {
     "data": {
      "text/plain": [
       "<Axes: >"
      ]
     },
     "execution_count": 6,
     "metadata": {},
     "output_type": "execute_result"
    },
    {
     "data": {
      "image/png": "[encoded data removed]",
      "text/plain": [
       "<Figure size 640x480 with 1 Axes>"
      ]
     },
     "metadata": {},
     "output_type": "display_data"
    }
   ],
   "source": [
    "df.age.hist()"
   ]
  },
  {
   "cell_type": "code",
   "execution_count": 7,
   "id": "66c901fc-d868-4b22-902e-fa4cb60f76f3",
   "metadata": {},
   "outputs": [
    {
     "data": {
      "text/plain": [
       "('Male percentage:', 0.5393891814682761)"
      ]
     },
     "execution_count": 7,
     "metadata": {},
     "output_type": "execute_result"
    }
   ],
   "source": [
    "\"Male percentage:\", df.eval(\"gender == 'M'\").mean()"
   ]
  },
  {
   "cell_type": "code",
   "execution_count": 8,
   "id": "d7d7c97f-b865-42ba-b986-e96e2ee818d6",
   "metadata": {},
   "outputs": [
    {
     "data": {
      "text/html": [
       "<div>\n",
       "<style scoped>\n",
       "    .dataframe tbody tr th:only-of-type {\n",
       "        vertical-align: middle;\n",
       "    }\n",
       "\n",
       "    .dataframe tbody tr th {\n",
       "        vertical-align: top;\n",
       "    }\n",
       "\n",
       "    .dataframe thead th {\n",
       "        text-align: right;\n",
       "    }\n",
       "</style>\n",
       "<table border=\"1\" class=\"dataframe\">\n",
       "  <thead>\n",
       "    <tr style=\"text-align: right;\">\n",
       "      <th></th>\n",
       "      <th>leukemia</th>\n",
       "      <th>hepatic_failure</th>\n",
       "      <th>immunosuppression</th>\n",
       "      <th>lymphoma</th>\n",
       "      <th>cirrhosis</th>\n",
       "      <th>aids</th>\n",
       "    </tr>\n",
       "  </thead>\n",
       "  <tbody>\n",
       "    <tr>\n",
       "      <th>F</th>\n",
       "      <td>0.005946</td>\n",
       "      <td>0.010698</td>\n",
       "      <td>0.026745</td>\n",
       "      <td>0.003868</td>\n",
       "      <td>0.012776</td>\n",
       "      <td>0.000406</td>\n",
       "    </tr>\n",
       "    <tr>\n",
       "      <th>M</th>\n",
       "      <td>0.008025</td>\n",
       "      <td>0.014950</td>\n",
       "      <td>0.025684</td>\n",
       "      <td>0.004359</td>\n",
       "      <td>0.018189</td>\n",
       "      <td>0.001242</td>\n",
       "    </tr>\n",
       "    <tr>\n",
       "      <th>tstat M = F</th>\n",
       "      <td>3.775242</td>\n",
       "      <td>5.719781</td>\n",
       "      <td>-0.997168</td>\n",
       "      <td>1.154392</td>\n",
       "      <td>6.638639</td>\n",
       "      <td>4.473519</td>\n",
       "    </tr>\n",
       "  </tbody>\n",
       "</table>\n",
       "</div>"
      ],
      "text/plain": [
       "             leukemia  hepatic_failure  immunosuppression  lymphoma  \\\n",
       "F            0.005946         0.010698           0.026745  0.003868   \n",
       "M            0.008025         0.014950           0.025684  0.004359   \n",
       "tstat M = F  3.775242         5.719781          -0.997168  1.154392   \n",
       "\n",
       "             cirrhosis      aids  \n",
       "F             0.012776  0.000406  \n",
       "M             0.018189  0.001242  \n",
       "tstat M = F   6.638639  4.473519  "
      ]
     },
     "execution_count": 8,
     "metadata": {},
     "output_type": "execute_result"
    }
   ],
   "source": [
    "diseases = ['leukemia', 'hepatic_failure', 'immunosuppression', 'lymphoma', 'cirrhosis', 'aids']\n",
    "\n",
    "results = {}\n",
    "for disease in diseases:\n",
    "    t_stat, p_val = ttest_ind(\n",
    "        df.query(\"gender == 'M'\")[disease], \n",
    "        df.query(\"gender == 'F'\")[disease], \n",
    "        equal_var=False, \n",
    "        nan_policy='omit'\n",
    "    )\n",
    "    results[disease] = {'tstat M = F': t_stat}\n",
    "\n",
    "pd.concat([\n",
    "    df.groupby('gender')[diseases].mean(), \n",
    "    pd.DataFrame(results)\n",
    "])"
   ]
  },
  {
   "cell_type": "code",
   "execution_count": null,
   "id": "b8f72836-541b-47f7-862b-c233a7e5ab17",
   "metadata": {},
   "outputs": [],
   "source": []
  },
  {
   "cell_type": "code",
   "execution_count": 9,
   "id": "51d92178-4ddb-4bb5-980c-4d74fd60f8f1",
   "metadata": {},
   "outputs": [
    {
     "data": {
      "text/plain": [
       "ethnicity\n",
       "African American    0.104096\n",
       "Asian               0.012310\n",
       "Caucasian           0.770709\n",
       "Hispanic            0.041390\n",
       "Native American     0.008592\n",
       "Other/Unknown       0.047692\n",
       "Name: encounter_id, dtype: float64"
      ]
     },
     "execution_count": 9,
     "metadata": {},
     "output_type": "execute_result"
    }
   ],
   "source": [
    "df.groupby('ethnicity').encounter_id.count() / len(df)"
   ]
  },
  {
   "cell_type": "code",
   "execution_count": 10,
   "id": "79bcf862-d31f-4a7f-9747-1b7d3d57cfb1",
   "metadata": {},
   "outputs": [
    {
     "data": {
      "text/html": [
       "<div>\n",
       "<style scoped>\n",
       "    .dataframe tbody tr th:only-of-type {\n",
       "        vertical-align: middle;\n",
       "    }\n",
       "\n",
       "    .dataframe tbody tr th {\n",
       "        vertical-align: top;\n",
       "    }\n",
       "\n",
       "    .dataframe thead th {\n",
       "        text-align: right;\n",
       "    }\n",
       "</style>\n",
       "<table border=\"1\" class=\"dataframe\">\n",
       "  <thead>\n",
       "    <tr style=\"text-align: right;\">\n",
       "      <th></th>\n",
       "      <th>leukemia</th>\n",
       "      <th>hepatic_failure</th>\n",
       "      <th>immunosuppression</th>\n",
       "      <th>lymphoma</th>\n",
       "      <th>cirrhosis</th>\n",
       "      <th>aids</th>\n",
       "    </tr>\n",
       "    <tr>\n",
       "      <th>ethnicity</th>\n",
       "      <th></th>\n",
       "      <th></th>\n",
       "      <th></th>\n",
       "      <th></th>\n",
       "      <th></th>\n",
       "      <th></th>\n",
       "    </tr>\n",
       "  </thead>\n",
       "  <tbody>\n",
       "    <tr>\n",
       "      <th>African American</th>\n",
       "      <td>0.006025</td>\n",
       "      <td>0.008139</td>\n",
       "      <td>0.023888</td>\n",
       "      <td>0.002220</td>\n",
       "      <td>0.008879</td>\n",
       "      <td>0.002960</td>\n",
       "    </tr>\n",
       "    <tr>\n",
       "      <th>Asian</th>\n",
       "      <td>0.005329</td>\n",
       "      <td>0.014210</td>\n",
       "      <td>0.024867</td>\n",
       "      <td>0.005329</td>\n",
       "      <td>0.015986</td>\n",
       "      <td>0.000000</td>\n",
       "    </tr>\n",
       "    <tr>\n",
       "      <th>Caucasian</th>\n",
       "      <td>0.007443</td>\n",
       "      <td>0.012661</td>\n",
       "      <td>0.027362</td>\n",
       "      <td>0.004591</td>\n",
       "      <td>0.015114</td>\n",
       "      <td>0.000570</td>\n",
       "    </tr>\n",
       "    <tr>\n",
       "      <th>Hispanic</th>\n",
       "      <td>0.007443</td>\n",
       "      <td>0.020734</td>\n",
       "      <td>0.021531</td>\n",
       "      <td>0.001861</td>\n",
       "      <td>0.025518</td>\n",
       "      <td>0.000797</td>\n",
       "    </tr>\n",
       "    <tr>\n",
       "      <th>Native American</th>\n",
       "      <td>0.006394</td>\n",
       "      <td>0.070332</td>\n",
       "      <td>0.025575</td>\n",
       "      <td>0.003836</td>\n",
       "      <td>0.081841</td>\n",
       "      <td>0.001279</td>\n",
       "    </tr>\n",
       "    <tr>\n",
       "      <th>Other/Unknown</th>\n",
       "      <td>0.004834</td>\n",
       "      <td>0.014733</td>\n",
       "      <td>0.021639</td>\n",
       "      <td>0.003453</td>\n",
       "      <td>0.023020</td>\n",
       "      <td>0.001381</td>\n",
       "    </tr>\n",
       "  </tbody>\n",
       "</table>\n",
       "</div>"
      ],
      "text/plain": [
       "                  leukemia  hepatic_failure  immunosuppression  lymphoma  \\\n",
       "ethnicity                                                                  \n",
       "African American  0.006025         0.008139           0.023888  0.002220   \n",
       "Asian             0.005329         0.014210           0.024867  0.005329   \n",
       "Caucasian         0.007443         0.012661           0.027362  0.004591   \n",
       "Hispanic          0.007443         0.020734           0.021531  0.001861   \n",
       "Native American   0.006394         0.070332           0.025575  0.003836   \n",
       "Other/Unknown     0.004834         0.014733           0.021639  0.003453   \n",
       "\n",
       "                  cirrhosis      aids  \n",
       "ethnicity                              \n",
       "African American   0.008879  0.002960  \n",
       "Asian              0.015986  0.000000  \n",
       "Caucasian          0.015114  0.000570  \n",
       "Hispanic           0.025518  0.000797  \n",
       "Native American    0.081841  0.001279  \n",
       "Other/Unknown      0.023020  0.001381  "
      ]
     },
     "execution_count": 10,
     "metadata": {},
     "output_type": "execute_result"
    }
   ],
   "source": [
    "diseases = ['leukemia', 'hepatic_failure', 'immunosuppression', 'lymphoma', 'cirrhosis', 'aids']\n",
    "df.groupby('ethnicity')[diseases].mean() "
   ]
  },
  {
   "cell_type": "markdown",
   "id": "40882e37-43b2-4fa5-a170-5b519ea4255d",
   "metadata": {},
   "source": [
    "## Findings: \n",
    "- Mean age is 62, left skewed. Younger people is underrepresented.\n",
    "- Similar number of male and female\n",
    "    - Men are likely to have disease.\n",
    "    - The difference is significant in cirrhosis, hepatic failure, aids, and leukemia\n",
    "        - Guess: cirrhosis because men drink more, aids because gays are categorized as men\n",
    "- 77% of patients are white.\n",
    "    - Caucasian vs Native American shows sign. difference\n",
    "    - Caucasian vs African American shows notable difference."
   ]
  },
  {
   "cell_type": "markdown",
   "id": "57af924a-a9be-486f-85e8-e4f1c9c1fa5a",
   "metadata": {},
   "source": [
    "# Modelling"
   ]
  },
  {
   "cell_type": "markdown",
   "id": "4ed2d7e8-7460-487f-970a-8d8528449610",
   "metadata": {},
   "source": [
    "## Try throwing data in"
   ]
  },
  {
   "cell_type": "markdown",
   "id": "d097dd90-727b-4dcc-bab0-0b0f76561573",
   "metadata": {},
   "source": [
    "Now it depends what we are doing. I chose cirrhosis for now since it is the only one i have a good idea about. :)"
   ]
  },
  {
   "cell_type": "code",
   "execution_count": 11,
   "id": "29b4a52a-1d31-4663-aed8-5bca2126cbf2",
   "metadata": {},
   "outputs": [],
   "source": [
    "labs = [\"d1_bilirubin_max\", \"d1_bilirubin_min\", \"d1_albumin_max\", \"d1_albumin_min\"]"
   ]
  },
  {
   "cell_type": "markdown",
   "id": "d7ea5663-86d0-4c06-8cce-9cc9f49e572b",
   "metadata": {},
   "source": [
    "ChatGPT said these are the things to look for. Seems true...\n",
    "Note that below are mostly chat's work."
   ]
  },
  {
   "cell_type": "code",
   "execution_count": 12,
   "id": "84bd69fd-4d1a-45ab-acfa-89cb9381ab0c",
   "metadata": {
    "scrolled": true
   },
   "outputs": [
    {
     "data": {
      "image/png": "[encoded data removed]",
      "text/plain": [
       "<Figure size 640x480 with 1 Axes>"
      ]
     },
     "metadata": {},
     "output_type": "display_data"
    },
    {
     "data": {
      "image/png": "[encoded data removed]",
      "text/plain": [
       "<Figure size 640x480 with 1 Axes>"
      ]
     },
     "metadata": {},
     "output_type": "display_data"
    }
   ],
   "source": [
    "bucket_plot(df, \"d1_albumin_max\", \"cirrhosis\")\n",
    "bucket_plot(df, \"d1_albumin_min\", \"cirrhosis\")"
   ]
  },
  {
   "cell_type": "code",
   "execution_count": 15,
   "id": "ee2e0642-5847-4c42-b543-5499d4e7f553",
   "metadata": {
    "scrolled": true
   },
   "outputs": [
    {
     "data": {
      "image/png": "[encoded data removed]",
      "text/plain": [
       "<Figure size 640x480 with 1 Axes>"
      ]
     },
     "metadata": {},
     "output_type": "display_data"
    },
    {
     "data": {
      "image/png": "[encoded data removed]",
      "text/plain": [
       "<Figure size 640x480 with 1 Axes>"
      ]
     },
     "metadata": {},
     "output_type": "display_data"
    }
   ],
   "source": [
    "bucket_plot(df, \"d1_bilirubin_max\", \"cirrhosis\")\n",
    "bucket_plot(df, \"d1_bilirubin_min\", \"cirrhosis\")"
   ]
  },
  {
   "cell_type": "code",
   "execution_count": 33,
   "id": "14c99ae8-ba51-4a5e-aeaf-a0c4b759a83c",
   "metadata": {},
   "outputs": [],
   "source": [
    "def train_model (df) :\n",
    "    features = [\n",
    "        'd1_albumin_max', 'd1_albumin_min',\n",
    "        'd1_inr_max','d1_inr_min',\n",
    "        'd1_bilirubin_max', 'd1_bilirubin_min',\n",
    "        \n",
    "        'd1_platelets_min',\n",
    "        'map_apache', 'd1_mbp_min',\n",
    "        'creatinine_apache', 'd1_creatinine_max',\n",
    "        'urineoutput_apache', \n",
    "        'bun_apache',\n",
    "        'd1_sodium_min', 'd1_potassium_max',\n",
    "        'd1_temp_max', 'd1_temp_min',\n",
    "        'd1_wbc_max', 'd1_wbc_min',\n",
    "        'd1_lactate_max'\n",
    "    ]\n",
    "    \n",
    "    groups = [\"gender\", \"age\", \"ethnicity\"]\n",
    "    \n",
    "    target = 'cirrhosis'\n",
    "    df = df.dropna(subset=[target])\n",
    "    \n",
    "    X = df[features + groups]\n",
    "    y = df[[target] + groups]\n",
    "    \n",
    "    X_train, X_test, y_train, y_test = train_test_split(X, y, test_size=0.3, random_state=42)\n",
    "    \n",
    "    model = Pipeline([\n",
    "        ('imputer', SimpleImputer(strategy='median')),\n",
    "        ('classifier', RandomForestClassifier(n_estimators=100, random_state=42))\n",
    "    ])\n",
    "    \n",
    "    model.fit(X_train[features], y_train[target])\n",
    "\n",
    "    return model, (X_test, y_test)"
   ]
  },
  {
   "cell_type": "code",
   "execution_count": 34,
   "id": "81a669b1-74de-4cd6-8704-17e8929a02e6",
   "metadata": {},
   "outputs": [],
   "source": [
    "def print_classification_report (model, validation_set, group = \"index == index\") : \n",
    "    X_test, y_test = validation_set\n",
    "    y_pred = model.predict(X_test.query(group)[features])\n",
    "    print(\"\\nClassification Report:\")\n",
    "    print(classification_report(y_test.query(group)[target], y_pred))"
   ]
  },
  {
   "cell_type": "code",
   "execution_count": 97,
   "id": "d2aaddfe-5902-4e5b-82ba-ffd292cd5b8d",
   "metadata": {},
   "outputs": [],
   "source": [
    "def print_confusion_matrix (model, validation_set, group = \"index == index\") :\n",
    "    X_test, y_test = validation_set\n",
    "    y_pred = model.predict(X_test.query(group)[features])\n",
    "    cm = confusion_matrix(y_test.query(group)[target], y_pred)\n",
    "    n = len(y_test.query(group))\n",
    "\n",
    "    print(\"Confusion Matrix (Proportions):\")\n",
    "    print(f\"              Predicted 0     Predicted 1\")\n",
    "    print(f\"Actual 0      {cm[0][0] / n * 100:.2f} %          {cm[0][1] / n * 100:.2f} %\")\n",
    "    print(f\"Actual 1      {cm[1][0] / n * 100:.2f} %          {cm[1][1] / n * 100:.2f} %\")"
   ]
  },
  {
   "cell_type": "code",
   "execution_count": 35,
   "id": "3c261922-43b9-48dd-86a6-12b4131407d6",
   "metadata": {},
   "outputs": [],
   "source": [
    "model, validation_set = train_model(df)"
   ]
  },
  {
   "cell_type": "code",
   "execution_count": 36,
   "id": "5560f85a-5df7-4474-8796-d0a25039e259",
   "metadata": {},
   "outputs": [
    {
     "name": "stdout",
     "output_type": "stream",
     "text": [
      "\n",
      "Classification Report:\n",
      "              precision    recall  f1-score   support\n",
      "\n",
      "         0.0       0.98      1.00      0.99     26836\n",
      "         1.0       0.57      0.03      0.05       464\n",
      "\n",
      "    accuracy                           0.98     27300\n",
      "   macro avg       0.78      0.51      0.52     27300\n",
      "weighted avg       0.98      0.98      0.98     27300\n",
      "\n"
     ]
    }
   ],
   "source": [
    "print_classification_report (model, validation_set)"
   ]
  },
  {
   "cell_type": "markdown",
   "id": "8680789a-d348-4adb-9b62-059f779f1c30",
   "metadata": {},
   "source": [
    "We have accuracy of 98%!!!\n",
    "\n",
    "That comes with 57% precision, 3% recall. i.e. of all cases model say has cirrhosis, only 57% has, and out of all cirrhosis cases, the model found 3%. Not ideal. Let's see the report on each of the groups."
   ]
  },
  {
   "cell_type": "code",
   "execution_count": 37,
   "id": "51046b13-e7ac-40e7-bc34-83be252810ed",
   "metadata": {},
   "outputs": [
    {
     "name": "stdout",
     "output_type": "stream",
     "text": [
      "\n",
      "Classification Report:\n",
      "              precision    recall  f1-score   support\n",
      "\n",
      "         0.0       0.98      1.00      0.99     14487\n",
      "         1.0       0.62      0.03      0.05       294\n",
      "\n",
      "    accuracy                           0.98     14781\n",
      "   macro avg       0.80      0.51      0.52     14781\n",
      "weighted avg       0.97      0.98      0.97     14781\n",
      "\n"
     ]
    }
   ],
   "source": [
    "print_classification_report (model, validation_set, \"gender == 'M'\")"
   ]
  },
  {
   "cell_type": "code",
   "execution_count": 38,
   "id": "1c355e3e-aa16-4c5c-9498-dcab6c302d09",
   "metadata": {},
   "outputs": [
    {
     "name": "stdout",
     "output_type": "stream",
     "text": [
      "\n",
      "Classification Report:\n",
      "              precision    recall  f1-score   support\n",
      "\n",
      "         0.0       0.99      1.00      0.99     12342\n",
      "         1.0       0.50      0.02      0.04       170\n",
      "\n",
      "    accuracy                           0.99     12512\n",
      "   macro avg       0.74      0.51      0.52     12512\n",
      "weighted avg       0.98      0.99      0.98     12512\n",
      "\n"
     ]
    }
   ],
   "source": [
    "print_classification_report (model, validation_set, \"gender == 'F'\")"
   ]
  },
  {
   "cell_type": "markdown",
   "id": "8accd247-a772-491c-92c2-a7b8a420c24e",
   "metadata": {},
   "source": [
    "The model performs worse on Female!"
   ]
  },
  {
   "cell_type": "code",
   "execution_count": 41,
   "id": "27330cff-6699-4702-84d3-15be6950b5e0",
   "metadata": {},
   "outputs": [
    {
     "name": "stdout",
     "output_type": "stream",
     "text": [
      "\n",
      "Classification Report:\n",
      "              precision    recall  f1-score   support\n",
      "\n",
      "         0.0       0.95      1.00      0.97       222\n",
      "         1.0       0.80      0.27      0.40        15\n",
      "\n",
      "    accuracy                           0.95       237\n",
      "   macro avg       0.88      0.63      0.69       237\n",
      "weighted avg       0.94      0.95      0.94       237\n",
      "\n"
     ]
    }
   ],
   "source": [
    "print_classification_report (model, validation_set, \"ethnicity == 'Native American'\")"
   ]
  },
  {
   "cell_type": "code",
   "execution_count": 42,
   "id": "b22d349a-0c36-4384-b40c-14426a0ad2d9",
   "metadata": {},
   "outputs": [
    {
     "name": "stdout",
     "output_type": "stream",
     "text": [
      "\n",
      "Classification Report:\n",
      "              precision    recall  f1-score   support\n",
      "\n",
      "         0.0       0.99      1.00      1.00      2828\n",
      "         1.0       0.00      0.00      0.00        27\n",
      "\n",
      "    accuracy                           0.99      2855\n",
      "   macro avg       0.50      0.50      0.50      2855\n",
      "weighted avg       0.98      0.99      0.99      2855\n",
      "\n"
     ]
    }
   ],
   "source": [
    "warnings.filterwarnings('ignore')\n",
    "print_classification_report (model, validation_set, \"ethnicity == 'African American'\") "
   ]
  },
  {
   "cell_type": "code",
   "execution_count": 43,
   "id": "041ae6e2-75ed-4279-9d6f-0666b1e19c43",
   "metadata": {},
   "outputs": [
    {
     "name": "stdout",
     "output_type": "stream",
     "text": [
      "\n",
      "Classification Report:\n",
      "              precision    recall  f1-score   support\n",
      "\n",
      "         0.0       0.98      1.00      0.99     20666\n",
      "         1.0       0.50      0.02      0.04       348\n",
      "\n",
      "    accuracy                           0.98     21014\n",
      "   macro avg       0.74      0.51      0.52     21014\n",
      "weighted avg       0.98      0.98      0.98     21014\n",
      "\n"
     ]
    }
   ],
   "source": [
    "print_classification_report (model, validation_set, \"ethnicity == 'Caucasian'\")"
   ]
  },
  {
   "cell_type": "markdown",
   "id": "90bd7e5d-8e3c-419f-8fb4-65dacdc89c14",
   "metadata": {},
   "source": [
    "The model simply says \"no cirrhosis\" to black patients!"
   ]
  },
  {
   "cell_type": "markdown",
   "id": "9759638b-6c20-4d0a-8591-d0ac4900fd81",
   "metadata": {},
   "source": [
    "All of this while the model did not actually know the ethnicity of the patient. The model only get the lab and vital data."
   ]
  },
  {
   "cell_type": "markdown",
   "id": "33d7110f-8273-4136-82b7-f898be764ee2",
   "metadata": {},
   "source": [
    "### Age\n",
    "My Hypothesis: cirrhosis takes a few years to develop. People drinks in there 30-40 and get cirrhosis 50-60. If not, they are not drinkers, and wouldn't get it later in their life."
   ]
  },
  {
   "cell_type": "code",
   "execution_count": 24,
   "id": "6aa94763-1460-47aa-9cff-55803c3d609c",
   "metadata": {},
   "outputs": [
    {
     "data": {
      "image/png": "[encoded data removed]",
      "text/plain": [
       "<Figure size 640x480 with 1 Axes>"
      ]
     },
     "metadata": {},
     "output_type": "display_data"
    }
   ],
   "source": [
    "bucket_plot(df, \"age\", \"cirrhosis\")"
   ]
  },
  {
   "cell_type": "markdown",
   "id": "b43ef53c-f144-4e63-ad4c-1776ad656d91",
   "metadata": {},
   "source": [
    "## Fixing Precision and Recall\n",
    "One problem with the last model where we just throw data in is that the model optimizes for accuracy, but we don't really want accuracy. Simply say no already gives us 97%. What we might want from this diagnosis model is recall and precision. Out of all patients with disease, we want model to say positive as many as possible (recall) but we also don't want the model to say yes all the time, so out of all that they say yes, we want a lot to be actually positive. (precision)"
   ]
  },
  {
   "cell_type": "code",
   "execution_count": 50,
   "id": "e1d88cf6-f03f-43f4-a1d6-c20badf3c3e5",
   "metadata": {},
   "outputs": [],
   "source": [
    "df_size = 3000\n",
    "\n",
    "positive = df[df['cirrhosis'] == 1]\n",
    "negative = df[df['cirrhosis'] == 0]\n",
    "\n",
    "positive_sampled = positive.sample(n=df_size, replace=True, random_state=42)\n",
    "negative_sampled = negative.sample(n=df_size, replace=False, random_state=42)\n",
    "\n",
    "df_balanced = pd.concat([negative_sampled, positive_sampled], ignore_index=True)\n",
    "\n",
    "df_balanced = df_balanced.sample(frac=1, random_state=42).reset_index(drop=True)"
   ]
  },
  {
   "cell_type": "code",
   "execution_count": 52,
   "id": "9c569c37-fec4-4476-80a4-2388b959048d",
   "metadata": {},
   "outputs": [
    {
     "data": {
      "text/plain": [
       "(90998, 6000)"
      ]
     },
     "execution_count": 52,
     "metadata": {},
     "output_type": "execute_result"
    }
   ],
   "source": [
    "len(df), len(df_balanced)"
   ]
  },
  {
   "cell_type": "markdown",
   "id": "e7a55cbd-4e7b-4afd-91ab-bb21bf1d3ceb",
   "metadata": {},
   "source": [
    "From the total 90k records, we rebalanced the dataframe to only include 6k with equal cases and non-cases of cirrhosis. Now, the model can't just say no, right?"
   ]
  },
  {
   "cell_type": "code",
   "execution_count": 53,
   "id": "028ad9e5-b7a5-47af-9b58-439b18f37948",
   "metadata": {},
   "outputs": [],
   "source": [
    "model, validation_set = train_model(df_balanced)"
   ]
  },
  {
   "cell_type": "code",
   "execution_count": 54,
   "id": "46f6f68d-c326-4bd3-a3a6-95f912100f00",
   "metadata": {},
   "outputs": [
    {
     "name": "stdout",
     "output_type": "stream",
     "text": [
      "\n",
      "Classification Report:\n",
      "              precision    recall  f1-score   support\n",
      "\n",
      "         0.0       0.91      0.89      0.90       913\n",
      "         1.0       0.89      0.91      0.90       887\n",
      "\n",
      "    accuracy                           0.90      1800\n",
      "   macro avg       0.90      0.90      0.90      1800\n",
      "weighted avg       0.90      0.90      0.90      1800\n",
      "\n"
     ]
    }
   ],
   "source": [
    "print_classification_report (model, validation_set)"
   ]
  },
  {
   "cell_type": "markdown",
   "id": "b1659477-b79e-4345-9462-e76786215bb4",
   "metadata": {},
   "source": [
    "### Is it gender balanced? "
   ]
  },
  {
   "cell_type": "code",
   "execution_count": 67,
   "id": "877f3e33-df46-4c0b-8f6f-0039ff805149",
   "metadata": {},
   "outputs": [
    {
     "data": {
      "text/plain": [
       "(1936, 3588)"
      ]
     },
     "execution_count": 67,
     "metadata": {},
     "output_type": "execute_result"
    }
   ],
   "source": [
    "len(df_balanced.query(\"gender == 'M' and cirrhosis == 1\")), len(df_balanced.query(\"gender == 'M'\"))"
   ]
  },
  {
   "cell_type": "code",
   "execution_count": 68,
   "id": "d1beb2c4-d502-4881-8e94-fb9decd8a2a1",
   "metadata": {},
   "outputs": [
    {
     "data": {
      "text/plain": [
       "(1064, 2412)"
      ]
     },
     "execution_count": 68,
     "metadata": {},
     "output_type": "execute_result"
    }
   ],
   "source": [
    "len(df_balanced.query(\"gender == 'F' and cirrhosis == 1\")), len(df_balanced.query(\"gender == 'F'\"))"
   ]
  },
  {
   "cell_type": "code",
   "execution_count": 98,
   "id": "30febc11-9c0b-492d-99a9-80bdb29e5b98",
   "metadata": {},
   "outputs": [
    {
     "name": "stdout",
     "output_type": "stream",
     "text": [
      "Confusion Matrix (Proportions):\n",
      "              Predicted 0     Predicted 1\n",
      "Actual 0      40.55 %          5.84 %\n",
      "Actual 1      5.02 %          48.58 %\n"
     ]
    }
   ],
   "source": [
    "print_confusion_matrix (model, validation_set, \"gender == 'M'\")"
   ]
  },
  {
   "cell_type": "code",
   "execution_count": 99,
   "id": "3dcffb62-6f9a-4e0a-99d8-235e6851d35e",
   "metadata": {},
   "outputs": [
    {
     "name": "stdout",
     "output_type": "stream",
     "text": [
      "Confusion Matrix (Proportions):\n",
      "              Predicted 0     Predicted 1\n",
      "Actual 0      52.20 %          5.25 %\n",
      "Actual 1      3.26 %          39.29 %\n"
     ]
    }
   ],
   "source": [
    "print_confusion_matrix (model, validation_set, \"gender == 'F'\")"
   ]
  },
  {
   "cell_type": "markdown",
   "id": "43a9a0f8-c57f-49ed-a2e8-38823b072dd4",
   "metadata": {},
   "source": [
    "The model predicted false more often for women. It actually also wrong less often. This fits with the reality where women empirically don't have cirrhosis. Is this a good thing? \n",
    "- the model has high accuracy, precision, and recall\n",
    "- it seems that it capture the reality well.\n",
    "- what if the next patient is a heavy drinker women ? "
   ]
  },
  {
   "cell_type": "markdown",
   "id": "3fb73fb3-8841-48fe-80c5-261f60b0f47d",
   "metadata": {},
   "source": [
    "# What do we think about fake data?\n",
    "- On one hand, we can create a dataset where there is a column `drinker`. We can then demonstrate that the model biased toward men being drinker, thus higher likelihood of cirrhosis.\n",
    "- On the other hand, the data is fake. That is bad in itself (?)\n",
    "\n",
    "I'm on the side supporting fake (but sensible) dataset where we only add the column drinker in this one. Then, we show that the fixed model still bias (not on saying no all the time) but on make being drinker. Then, we show yet another balanced dataset. \n",
    "\n",
    "Of course, this might just be enough already. Of course, other ideas are more than welcome!"
   ]
  }
 ],
 "metadata": {
  "kernelspec": {
   "display_name": "Python 3 (ipykernel)",
   "language": "python",
   "name": "python3"
  },
  "language_info": {
   "codemirror_mode": {
    "name": "ipython",
    "version": 3
   },
   "file_extension": ".py",
   "mimetype": "text/x-python",
   "name": "python",
   "nbconvert_exporter": "python",
   "pygments_lexer": "ipython3",
   "version": "3.10.12"
  }
 },
 "nbformat": 4,
 "nbformat_minor": 5
}
